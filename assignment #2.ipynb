{
 "cells": [
  {
   "cell_type": "code",
   "execution_count": 4,
   "metadata": {},
   "outputs": [
    {
     "name": "stdout",
     "output_type": "stream",
     "text": [
      "Enter marks of the science subject : 80\n",
      "Enter marks of the english subject : 70\n",
      "Enter marks of the urdu subject : 60\n",
      "Enter marks of the islamiat subject : 50\n",
      "Enter marks of the social studies subject : 35\n",
      "Grade : C\n"
     ]
    }
   ],
   "source": [
    "sub1=int(input(\"Enter marks of the science subject : \"))\n",
    "sub2=int(input(\"Enter marks of the english subject : \"))\n",
    "sub3=int(input(\"Enter marks of the urdu subject : \"))\n",
    "sub4=int(input(\"Enter marks of the islamiat subject : \"))\n",
    "sub5=int(input(\"Enter marks of the social studies subject : \"))\n",
    "obt=(sub1+sub2+sub3+sub4+sub5)\n",
    "per=(obt*100)/500\n",
    "if(per>=90):\n",
    "    print(\"Grade : A+\")\n",
    "elif(per>=80):\n",
    "     print(\"Grade : A\")\n",
    "elif(per>=60):\n",
    "    print(\"Grade : B\")\n",
    "elif(per>=50):  \n",
    "     print(\"Grade : C\")\n",
    "elif(per>=40):\n",
    "      print(\"Grade : D\")\n",
    "elif(per<=40): \n",
    "      print(\"you are fail\")\n",
    "        \n",
    "        "
   ]
  },
  {
   "cell_type": "code",
   "execution_count": 12,
   "metadata": {},
   "outputs": [
    {
     "name": "stdout",
     "output_type": "stream",
     "text": [
      "Enter a number: 7\n",
      "7 is Odd\n"
     ]
    }
   ],
   "source": [
    "num = int(input(\"Enter a number: \"))\n",
    "if (num % 2) == 0:\n",
    "   print(\"{0} is Even\".format(num))\n",
    "else:\n",
    "   print(\"{0} is Odd\".format(num))"
   ]
  },
  {
   "cell_type": "code",
   "execution_count": 13,
   "metadata": {},
   "outputs": [
    {
     "name": "stdout",
     "output_type": "stream",
     "text": [
      "the length of list is : 5\n"
     ]
    }
   ],
   "source": [
    "n= len([1, 2, 3, 4, 5])\n",
    "print(\"the length of list is :\" ,n)"
   ]
  },
  {
   "cell_type": "code",
   "execution_count": 14,
   "metadata": {},
   "outputs": [
    {
     "name": "stdout",
     "output_type": "stream",
     "text": [
      "210\n"
     ]
    }
   ],
   "source": [
    "num = [10,20,30,40,50,60]\n",
    "add=sum(num)\n",
    "print(add)"
   ]
  },
  {
   "cell_type": "code",
   "execution_count": 15,
   "metadata": {},
   "outputs": [
    {
     "name": "stdout",
     "output_type": "stream",
     "text": [
      "largest element is : 90\n"
     ]
    }
   ],
   "source": [
    "list1 =[1,22,40,90,50]\n",
    "print(\"largest element is :\",max(list1))"
   ]
  },
  {
   "cell_type": "code",
   "execution_count": 16,
   "metadata": {},
   "outputs": [
    {
     "name": "stdout",
     "output_type": "stream",
     "text": [
      "1\n",
      "1\n",
      "2\n",
      "3\n"
     ]
    }
   ],
   "source": [
    "a = [1, 1, 2, 3, 5, 8, 13, 21, 34, 55, 89]\n",
    "\n",
    "for i in a:\n",
    "\n",
    "    if i < 5:\n",
    "\n",
    "        print(i)"
   ]
  },
  {
   "cell_type": "code",
   "execution_count": null,
   "metadata": {},
   "outputs": [],
   "source": []
  }
 ],
 "metadata": {
  "kernelspec": {
   "display_name": "Python 3",
   "language": "python",
   "name": "python3"
  },
  "language_info": {
   "codemirror_mode": {
    "name": "ipython",
    "version": 3
   },
   "file_extension": ".py",
   "mimetype": "text/x-python",
   "name": "python",
   "nbconvert_exporter": "python",
   "pygments_lexer": "ipython3",
   "version": "3.7.4"
  }
 },
 "nbformat": 4,
 "nbformat_minor": 2
}
