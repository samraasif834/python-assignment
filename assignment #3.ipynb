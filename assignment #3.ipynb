{
 "cells": [
  {
   "cell_type": "code",
   "execution_count": 1,
   "metadata": {},
   "outputs": [
    {
     "name": "stdout",
     "output_type": "stream",
     "text": [
      "Enter Your First Number50\n",
      "Enter Your second Number20\n",
      "Enter Your Opreator**\n",
      "Power of  50  is  9536743164062500000000000000000000\n"
     ]
    }
   ],
   "source": [
    "val1 = int(input(\"Enter Your First Number\"))\n",
    "val2 = int(input(\"Enter Your second Number\"))\n",
    "opreator = input(\"Enter Your Opreator\")\n",
    "if opreator == '+':\n",
    "    result =val1 + val2\n",
    "    print(\"Addition of \",val1,\" & \",val2,\" is \", result)\n",
    "elif opreator == '-':\n",
    "    result = val1 -val2\n",
    "    print(\"Subtraction of \",val1,\" & \",val2,\" is \", result)\n",
    "elif opreator == '*':\n",
    "    result = val1 * val2\n",
    "    print(\"Multiplication of \",val1,\" & \",val2,\" is \", result)\n",
    "elif opreator == '/':\n",
    "    result = val1 / val2\n",
    "    print(\"Division of \",val1,\" & \",val2,\" is \", result)\n",
    "elif opreator == '**':\n",
    "    result = val1 ** val2\n",
    "    print(\"Power of \",val1, \" is \", result)\n",
    "    "
   ]
  },
  {
   "cell_type": "code",
   "execution_count": 2,
   "metadata": {},
   "outputs": [
    {
     "ename": "SyntaxError",
     "evalue": "invalid syntax (<ipython-input-2-e10729a6d9ab>, line 1)",
     "output_type": "error",
     "traceback": [
      "\u001b[1;36m  File \u001b[1;32m\"<ipython-input-2-e10729a6d9ab>\"\u001b[1;36m, line \u001b[1;32m1\u001b[0m\n\u001b[1;33m    arr = [\"\"samra,'Ahmed',30,20,11,\"11\"]\u001b[0m\n\u001b[1;37m                 ^\u001b[0m\n\u001b[1;31mSyntaxError\u001b[0m\u001b[1;31m:\u001b[0m invalid syntax\n"
     ]
    }
   ],
   "source": [
    "arr = [\"\"samra,'Ahmed',30,20,11,\"11\"]\n",
    "for i in arr:\n",
    "    if type(i) == int:\n",
    "        print(i,\"is a numeric Value in List\")\n",
    "    elif type(i) == float:\n",
    "        print(i,\"is a numeric Value in List\")"
   ]
  },
  {
   "cell_type": "code",
   "execution_count": 3,
   "metadata": {},
   "outputs": [
    {
     "name": "stdout",
     "output_type": "stream",
     "text": [
      "Enter Keysamra\n",
      "Enter Valueasif\n",
      "{'samra': 'asif'}\n"
     ]
    }
   ],
   "source": [
    "dic = {}\n",
    "keyinput = input(\"Enter Key\")\n",
    "valueinput = input(\"Enter Value\")\n",
    "dic.update({keyinput:valueinput})\n",
    "\n",
    "print(dic)"
   ]
  },
  {
   "cell_type": "code",
   "execution_count": 4,
   "metadata": {},
   "outputs": [
    {
     "name": "stdout",
     "output_type": "stream",
     "text": [
      "Sum of all numeric items a dictionary is 134\n"
     ]
    }
   ],
   "source": [
    "dic = {\n",
    "    'val1' :50,\n",
    "    'val2' : 60,\n",
    "    'string':'Name',\n",
    "    'char':'a',\n",
    "    'val3' : 15,\n",
    "    'val4':9,\n",
    "}\n",
    "\n",
    "sum = 0\n",
    "\n",
    "for i in dic.values():\n",
    "    if type(i) == int:\n",
    "        sum +=i\n",
    "\n",
    "print(\"Sum of all numeric items a dictionary is\" , sum)"
   ]
  },
  {
   "cell_type": "code",
   "execution_count": 5,
   "metadata": {},
   "outputs": [
    {
     "name": "stdout",
     "output_type": "stream",
     "text": [
      "Repeted item in list are [10, 12]\n"
     ]
    }
   ],
   "source": [
    "arr = [10,12,14,10,12,18,20]\n",
    "list_range = len(arr)\n",
    "repeated = []\n",
    "for i in range (list_range):\n",
    "    a = i + 1\n",
    "    for b in range(a, list_range):\n",
    "        if arr[i] == arr[b] and arr[i] not in repeated:\n",
    "            repeated.append(arr[i])\n",
    "print(\"Repeted item in list are\" , repeated)"
   ]
  },
  {
   "cell_type": "code",
   "execution_count": 6,
   "metadata": {},
   "outputs": [
    {
     "name": "stdout",
     "output_type": "stream",
     "text": [
      "Enter Key Name Check if exist or not50\n",
      "Given Key dose not exist\n"
     ]
    }
   ],
   "source": [
    "dic = {\n",
    "    'val1' : 12,\n",
    "    'val2' : 15,\n",
    "    'string':'Name',\n",
    "    'char':'a',\n",
    "    'val3' : 17,\n",
    "    'val4':21,\n",
    "}\n",
    "check_key = input(\"Enter Key Name Check if exist or not\")\n",
    "flag = False\n",
    "for i in dic.keys():\n",
    "    if i == check_key:\n",
    "        flag = True\n",
    "        break\n",
    "\n",
    "if flag:\n",
    "    print(\"Given Key exist\")\n",
    "else:\n",
    "    print(\"Given Key dose not exist\")"
   ]
  },
  {
   "cell_type": "code",
   "execution_count": null,
   "metadata": {},
   "outputs": [],
   "source": []
  }
 ],
 "metadata": {
  "kernelspec": {
   "display_name": "Python 3",
   "language": "python",
   "name": "python3"
  },
  "language_info": {
   "codemirror_mode": {
    "name": "ipython",
    "version": 3
   },
   "file_extension": ".py",
   "mimetype": "text/x-python",
   "name": "python",
   "nbconvert_exporter": "python",
   "pygments_lexer": "ipython3",
   "version": "3.7.4"
  }
 },
 "nbformat": 4,
 "nbformat_minor": 2
}
